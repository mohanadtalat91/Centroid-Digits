{
 "cells": [
  {
   "cell_type": "code",
   "execution_count": 2,
   "id": "a5c2a6cf",
   "metadata": {},
   "outputs": [],
   "source": [
    "import numpy as np\n",
    "import matplotlib.pyplot as plt\n",
    "from keras.datasets import mnist # Importing mnist dataset from keras(Tensorflow)\n",
    "\n",
    "# loading mnist dataset and split it into train_x, train_y, test_x, test_y\n",
    "(train_X, train_y), (test_X, test_y) = mnist.load_data()"
   ]
  },
  {
   "cell_type": "code",
   "execution_count": 3,
   "id": "dd35c4ae",
   "metadata": {
    "scrolled": true
   },
   "outputs": [
    {
     "name": "stdout",
     "output_type": "stream",
     "text": [
      "X_train: (60000, 28, 28)\n",
      "Y_train: (60000,)\n",
      "X_test:  (10000, 28, 28)\n",
      "Y_test:  (10000,)\n"
     ]
    }
   ],
   "source": [
    "# Printing shape of dataset\n",
    "print('X_train: ' + str(train_X.shape))\n",
    "print('Y_train: ' + str(train_y.shape))\n",
    "print('X_test:  '  + str(test_X.shape))\n",
    "print('Y_test:  '  + str(test_y.shape))"
   ]
  },
  {
   "cell_type": "code",
   "execution_count": null,
   "id": "b849c3cd",
   "metadata": {},
   "outputs": [],
   "source": [
    "import matplotlib.pyplot as plt\n",
    "\n",
    "# Plotting the first 100 samples at train_X series\n",
    "for i in range(100):  \n",
    "    plt.imshow(train_X[i])\n",
    "    plt.show()"
   ]
  },
  {
   "cell_type": "code",
   "execution_count": 4,
   "id": "506a1b6a",
   "metadata": {},
   "outputs": [],
   "source": [
    "# Declaring 2 lists : The first for train and the second for test only for features X\n",
    "train_features = []\n",
    "test_features = []"
   ]
  },
  {
   "cell_type": "code",
   "execution_count": 5,
   "id": "326508d5",
   "metadata": {},
   "outputs": [],
   "source": [
    "# Here we'll split each image into 4-grids(2x2) grid to get centriod of each image.So we'll create the function called Get_centriod\n",
    "# which hold 3 paramater (curr_image,w,h) current image, it's width and finally it's height.\n",
    "# Cause we've determined to split into 4-grids(2x2) so we'll iterate 4 times\n",
    "#                                         #1#2\n",
    "#                                         #3#4\n",
    "def Get_centroid(curr_image,w,h):\n",
    "  feature_vector = []\n",
    "  x1 = y1 = x2 = y2 = 0\n",
    "  for item in range(4):\n",
    "    if item == 0:  # If we're at first grid(#1), we'll set x1,y1 to 0 & x2,y2 to 14   \n",
    "      x1 = y1 = 0\n",
    "      x2 = y2 = 14\n",
    "    elif item == 1: # If we're at first grid(#2), we'll set x1 to 14, y1 to 0 & x2 to 28 & y2 to 14\n",
    "      x1 = 14\n",
    "      y1 = 0\n",
    "      x2 = 2*14  # 28\n",
    "      y2 = 14\n",
    "    elif item == 2:  # If we're at first grid(#3), we'll update x1 to 0, y1 to 14 & x2 to 14, y2 to 28\n",
    "      x1 = 0\n",
    "      y1 = 14\n",
    "      x2 = 14\n",
    "      y2 = 2*14\n",
    "    else :            # If we're at first grid(#4), we'll update x1,y1 to 14 & x2,y2 to 28\n",
    "      x1 = y1 = 14\n",
    "      x2 = y2 = 2*14\n",
    "    sum_x = 0\n",
    "    sum_y = 0\n",
    "    total_pixels = 0\n",
    "    for i in range(x1,x2): # Iterate through each determined grid \n",
    "      for j in range(y1,y2):\n",
    "        sum_x = sum_x + (i-x1)*curr_image[i][j] # iterate through each row to get sum the pixel of current image  \n",
    "        sum_y = sum_y + (j-y1)*curr_image[i][j] # iterate through each column to get sum the pixel of current image\n",
    "        total_pixels = total_pixels+curr_image[i][j] # To get total sum of pixels of each grid.\n",
    "    if total_pixels != 0:  # To avoid divided by zero   \n",
    "      feature_vector.append((sum_x/total_pixels)) # get centroid of x at each grid\n",
    "      feature_vector.append((sum_y/total_pixels)) # get centroid of y at each grid\n",
    "    else:\n",
    "      # if total_pixels is equal to zero then add zero\n",
    "      feature_vector.append(0)  \n",
    "      feature_vector.append(0)\n",
    "  return feature_vector"
   ]
  },
  {
   "cell_type": "code",
   "execution_count": 6,
   "id": "adaa615f",
   "metadata": {},
   "outputs": [],
   "source": [
    "for i in range(10000): # We'll iterate through 10000; and Getting centriod of each element of train_x then add it into train_features list to fit it into model later. \n",
    "  train_features.append(Get_centroid(train_X[i],28,28))"
   ]
  },
  {
   "cell_type": "code",
   "execution_count": 7,
   "id": "7751ed93",
   "metadata": {},
   "outputs": [],
   "source": [
    "for i in range(1000): # We'll iterate through 1000; and Getting centriod of each element of test_x then add it into train_features list to test it into model later.  \n",
    "  test_features.append(Get_centroid(test_X[i],28,28))"
   ]
  },
  {
   "cell_type": "code",
   "execution_count": 92,
   "id": "b638764a",
   "metadata": {},
   "outputs": [],
   "source": [
    "from sklearn.neighbors import KNeighborsClassifier  # Importing KNN model \n",
    "knn_model = KNeighborsClassifier(n_neighbors=8)\n",
    "knn_model.fit(train_features,train_y[:10000])  # Fit the model with train_features & the first 10000 samples train_y \n",
    "predicted_y = knn_model.predict(test_features)"
   ]
  },
  {
   "cell_type": "code",
   "execution_count": 93,
   "id": "114408a8",
   "metadata": {},
   "outputs": [
    {
     "name": "stdout",
     "output_type": "stream",
     "text": [
      "Accuracy of KNN model: 0.833\n"
     ]
    }
   ],
   "source": [
    "from sklearn.metrics import accuracy_score # to get accuracy\n",
    "print(\"Accuracy of KNN model: \"+str(accuracy_score(test_y[:1000], predicted_y))) # Predict the model with the first 1000 samples of test_y & predicted_y1"
   ]
  }
 ],
 "metadata": {
  "kernelspec": {
   "display_name": "Python 3 (ipykernel)",
   "language": "python",
   "name": "python3"
  },
  "language_info": {
   "codemirror_mode": {
    "name": "ipython",
    "version": 3
   },
   "file_extension": ".py",
   "mimetype": "text/x-python",
   "name": "python",
   "nbconvert_exporter": "python",
   "pygments_lexer": "ipython3",
   "version": "3.9.7"
  },
  "varInspector": {
   "cols": {
    "lenName": 16,
    "lenType": 16,
    "lenVar": 40
   },
   "kernels_config": {
    "python": {
     "delete_cmd_postfix": "",
     "delete_cmd_prefix": "del ",
     "library": "var_list.py",
     "varRefreshCmd": "print(var_dic_list())"
    },
    "r": {
     "delete_cmd_postfix": ") ",
     "delete_cmd_prefix": "rm(",
     "library": "var_list.r",
     "varRefreshCmd": "cat(var_dic_list()) "
    }
   },
   "types_to_exclude": [
    "module",
    "function",
    "builtin_function_or_method",
    "instance",
    "_Feature"
   ],
   "window_display": false
  }
 },
 "nbformat": 4,
 "nbformat_minor": 5
}
